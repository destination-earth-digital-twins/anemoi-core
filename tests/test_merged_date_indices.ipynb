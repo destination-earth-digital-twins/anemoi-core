{
 "cells": [
  {
   "cell_type": "code",
   "execution_count": null,
   "id": "797f84b8-e72a-47ee-b825-967cd84897cd",
   "metadata": {},
   "outputs": [],
   "source": [
    "import numpy as np"
   ]
  },
  {
   "cell_type": "code",
   "execution_count": null,
   "id": "33e9d18d-a266-4dc5-8796-e646c85318cd",
   "metadata": {},
   "outputs": [],
   "source": [
    "merged_date_indices = np.array()\n",
    "valid_date_indices = {MEPS: np.array([1,2,3]), ARA:np.array([4,5,6]), np.array(CERRA:[7,8,9])}\n",
    "\n",
    "for dataset_label, valid_date_indices in valid_date_indices.items():\n",
    "    np.vstack(\n",
    "\n",
    "return np.array(merged_date_indices)"
   ]
  }
 ],
 "metadata": {
  "kernelspec": {
   "display_name": ".venv",
   "language": "python",
   "name": ".venv"
  },
  "language_info": {
   "name": ""
  }
 },
 "nbformat": 4,
 "nbformat_minor": 5
}
